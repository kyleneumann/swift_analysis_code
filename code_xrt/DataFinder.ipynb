{
 "cells": [
  {
   "cell_type": "code",
   "execution_count": 1,
   "metadata": {},
   "outputs": [],
   "source": [
    "import numpy as np\n",
    "from astropy.coordinates import SkyCoord\n",
    "from astropy import units as u\n",
    "from astropy import time as t\n",
    "from astropy import table\n",
    "from astroquery.heasarc import Heasarc\n",
    "\n",
    "import pandas as pd\n",
    "\n",
    "from swifttools.swift_too import ObsQuery, Data\n",
    "from datetime import date\n",
    "import os"
   ]
  },
  {
   "cell_type": "code",
   "execution_count": 23,
   "metadata": {},
   "outputs": [],
   "source": [
    "startpath = os.getcwd()+\"/\"\n",
    "initpath = os.getcwd()+\"/dataInit\""
   ]
  },
  {
   "cell_type": "code",
   "execution_count": 3,
   "metadata": {},
   "outputs": [],
   "source": [
    "database=pd.read_csv('psr_list.csv',delimiter=',',header=0)"
   ]
  },
  {
   "cell_type": "code",
   "execution_count": 4,
   "metadata": {},
   "outputs": [
    {
     "data": {
      "text/html": [
       "<div>\n",
       "<style scoped>\n",
       "    .dataframe tbody tr th:only-of-type {\n",
       "        vertical-align: middle;\n",
       "    }\n",
       "\n",
       "    .dataframe tbody tr th {\n",
       "        vertical-align: top;\n",
       "    }\n",
       "\n",
       "    .dataframe thead th {\n",
       "        text-align: right;\n",
       "    }\n",
       "</style>\n",
       "<table border=\"1\" class=\"dataframe\">\n",
       "  <thead>\n",
       "    <tr style=\"text-align: right;\">\n",
       "      <th></th>\n",
       "      <th>4FGL</th>\n",
       "      <th>PSR</th>\n",
       "      <th>QUALITY</th>\n",
       "      <th>RA</th>\n",
       "      <th>Dec</th>\n",
       "      <th>Class1</th>\n",
       "    </tr>\n",
       "  </thead>\n",
       "  <tbody>\n",
       "    <tr>\n",
       "      <th>0</th>\n",
       "      <td>4FGL J0002.8+6217</td>\n",
       "      <td>PSR J0002+6216</td>\n",
       "      <td>3</td>\n",
       "      <td>0.7201</td>\n",
       "      <td>62.2905</td>\n",
       "      <td>psr</td>\n",
       "    </tr>\n",
       "    <tr>\n",
       "      <th>1</th>\n",
       "      <td>4FGL J0007.0+7303</td>\n",
       "      <td>PSR J0007+7303</td>\n",
       "      <td>3</td>\n",
       "      <td>1.7680</td>\n",
       "      <td>73.0512</td>\n",
       "      <td>psr</td>\n",
       "    </tr>\n",
       "    <tr>\n",
       "      <th>2</th>\n",
       "      <td>4FGL J0023.4+0920</td>\n",
       "      <td>PSR J0023+0923</td>\n",
       "      <td>1</td>\n",
       "      <td>5.8513</td>\n",
       "      <td>9.3475</td>\n",
       "      <td>msp</td>\n",
       "    </tr>\n",
       "    <tr>\n",
       "      <th>3</th>\n",
       "      <td>4FGL J0030.4+0451</td>\n",
       "      <td>PSR J0030+0451</td>\n",
       "      <td>5</td>\n",
       "      <td>7.6107</td>\n",
       "      <td>4.8592</td>\n",
       "      <td>msp</td>\n",
       "    </tr>\n",
       "    <tr>\n",
       "      <th>4</th>\n",
       "      <td>4FGL J0034.3-0534</td>\n",
       "      <td>PSR J0034-0534</td>\n",
       "      <td>3</td>\n",
       "      <td>8.5961</td>\n",
       "      <td>-5.5809</td>\n",
       "      <td>msp</td>\n",
       "    </tr>\n",
       "    <tr>\n",
       "      <th>...</th>\n",
       "      <td>...</td>\n",
       "      <td>...</td>\n",
       "      <td>...</td>\n",
       "      <td>...</td>\n",
       "      <td>...</td>\n",
       "      <td>...</td>\n",
       "    </tr>\n",
       "    <tr>\n",
       "      <th>315</th>\n",
       "      <td>4FGL J2302.7+4443</td>\n",
       "      <td>PSR J2302+4442</td>\n",
       "      <td>3</td>\n",
       "      <td>345.6918</td>\n",
       "      <td>44.7182</td>\n",
       "      <td>msp</td>\n",
       "    </tr>\n",
       "    <tr>\n",
       "      <th>316</th>\n",
       "      <td>4FGL J2310.0-0555</td>\n",
       "      <td>PSR J2310-0555</td>\n",
       "      <td>1</td>\n",
       "      <td>347.5183</td>\n",
       "      <td>-5.9251</td>\n",
       "      <td>msp</td>\n",
       "    </tr>\n",
       "    <tr>\n",
       "      <th>317</th>\n",
       "      <td>4FGL J2317.3+1433</td>\n",
       "      <td>PSR J2317+1439</td>\n",
       "      <td>1</td>\n",
       "      <td>349.3349</td>\n",
       "      <td>14.5651</td>\n",
       "      <td>msp</td>\n",
       "    </tr>\n",
       "    <tr>\n",
       "      <th>318</th>\n",
       "      <td>4FGL J2333.1-5527</td>\n",
       "      <td>PSR J2333-5526</td>\n",
       "      <td>1</td>\n",
       "      <td>353.2860</td>\n",
       "      <td>-55.4638</td>\n",
       "      <td>msp</td>\n",
       "    </tr>\n",
       "    <tr>\n",
       "      <th>319</th>\n",
       "      <td>4FGL J2339.6-0533</td>\n",
       "      <td>PSR J2339-0533</td>\n",
       "      <td>5</td>\n",
       "      <td>354.9106</td>\n",
       "      <td>-5.5511</td>\n",
       "      <td>msp</td>\n",
       "    </tr>\n",
       "  </tbody>\n",
       "</table>\n",
       "<p>320 rows × 6 columns</p>\n",
       "</div>"
      ],
      "text/plain": [
       "                  4FGL             PSR  QUALITY        RA      Dec Class1\n",
       "0    4FGL J0002.8+6217  PSR J0002+6216        3    0.7201  62.2905    psr\n",
       "1    4FGL J0007.0+7303  PSR J0007+7303        3    1.7680  73.0512    psr\n",
       "2    4FGL J0023.4+0920  PSR J0023+0923        1    5.8513   9.3475    msp\n",
       "3    4FGL J0030.4+0451  PSR J0030+0451        5    7.6107   4.8592    msp\n",
       "4    4FGL J0034.3-0534  PSR J0034-0534        3    8.5961  -5.5809    msp\n",
       "..                 ...             ...      ...       ...      ...    ...\n",
       "315  4FGL J2302.7+4443  PSR J2302+4442        3  345.6918  44.7182    msp\n",
       "316  4FGL J2310.0-0555  PSR J2310-0555        1  347.5183  -5.9251    msp\n",
       "317  4FGL J2317.3+1433  PSR J2317+1439        1  349.3349  14.5651    msp\n",
       "318  4FGL J2333.1-5527  PSR J2333-5526        1  353.2860 -55.4638    msp\n",
       "319  4FGL J2339.6-0533  PSR J2339-0533        5  354.9106  -5.5511    msp\n",
       "\n",
       "[320 rows x 6 columns]"
      ]
     },
     "execution_count": 4,
     "metadata": {},
     "output_type": "execute_result"
    }
   ],
   "source": [
    "database"
   ]
  },
  {
   "cell_type": "code",
   "execution_count": 5,
   "metadata": {},
   "outputs": [
    {
     "data": {
      "text/html": [
       "<div><i>Table length=28</i>\n",
       "<table id=\"table6105964880\" class=\"table-striped table-bordered table-condensed\">\n",
       "<thead><tr><th>target_id</th><th>obsid</th><th>ra</th><th>dec</th><th>start_time</th><th>exposure</th><th>window_size</th><th>operation_mode</th><th>pointing_mode</th><th>flipflop</th><th>__row</th></tr></thead>\n",
       "<thead><tr><th></th><th></th><th>deg</th><th>deg</th><th>d</th><th>s</th><th></th><th></th><th></th><th></th><th></th></tr></thead>\n",
       "<thead><tr><th>int32</th><th>object</th><th>float64</th><th>float64</th><th>float64</th><th>float64</th><th>object</th><th>object</th><th>object</th><th>object</th><th>object</th></tr></thead>\n",
       "<tr><td>31541</td><td>00031541001</td><td>15.23637</td><td>-64.37918</td><td>55156.2687449074</td><td>12.48625</td><td></td><td>BIASIMA</td><td>slewing</td><td>N</td><td>910148</td></tr>\n",
       "<tr><td>31541</td><td>00031541001</td><td>15.23637</td><td>-64.37918</td><td>55156.2692266204</td><td>93.77791</td><td>200</td><td>WINDOWED</td><td>slewing</td><td>N</td><td>910149</td></tr>\n",
       "<tr><td>31541</td><td>00031541001</td><td>15.23637</td><td>-64.37918</td><td>55156.270312037</td><td>9.60729</td><td>200</td><td>WINDOWED</td><td>settling</td><td>N</td><td>910150</td></tr>\n",
       "<tr><td>31541</td><td>00031541001</td><td>15.23637</td><td>-64.37918</td><td>55156.2704486111</td><td>149.83724</td><td>600x600</td><td>PHOTON</td><td>pointing</td><td>N</td><td>910151</td></tr>\n",
       "<tr><td>31541</td><td>00031541001</td><td>15.23637</td><td>-64.37918</td><td>55156.4590225694</td><td>12.48625</td><td></td><td>BIASIMA</td><td>slewing</td><td>N</td><td>910152</td></tr>\n",
       "<tr><td>31541</td><td>00031541001</td><td>15.23637</td><td>-64.37918</td><td>55156.4595043981</td><td>79.90059</td><td>200</td><td>WINDOWED</td><td>slewing</td><td>N</td><td>910153</td></tr>\n",
       "<tr><td>31541</td><td>00031541001</td><td>15.23637</td><td>-64.37918</td><td>55156.4604378472</td><td>9.60731</td><td>200</td><td>WINDOWED</td><td>settling</td><td>N</td><td>910154</td></tr>\n",
       "<tr><td>31541</td><td>00031541001</td><td>15.23637</td><td>-64.37918</td><td>55156.460562037</td><td>521.93312</td><td>600x600</td><td>PHOTON</td><td>pointing</td><td>N</td><td>910155</td></tr>\n",
       "<tr><td>31541</td><td>00031541001</td><td>15.23637</td><td>-64.37918</td><td>55156.5256892361</td><td>12.48625</td><td></td><td>BIASIMA</td><td>slewing</td><td>N</td><td>910156</td></tr>\n",
       "<tr><td>...</td><td>...</td><td>...</td><td>...</td><td>...</td><td>...</td><td>...</td><td>...</td><td>...</td><td>...</td><td>...</td></tr>\n",
       "<tr><td>31541</td><td>00031541001</td><td>15.23637</td><td>-64.37918</td><td>55156.6612518519</td><td>521.93298</td><td>600x600</td><td>PHOTON</td><td>pointing</td><td>N</td><td>910167</td></tr>\n",
       "<tr><td>31541</td><td>00031541001</td><td>15.23637</td><td>-64.37918</td><td>55156.7298559028</td><td>12.48625</td><td></td><td>BIASIMA</td><td>slewing</td><td>N</td><td>910168</td></tr>\n",
       "<tr><td>31541</td><td>00031541001</td><td>15.23637</td><td>-64.37918</td><td>55156.7303377315</td><td>79.9007</td><td>200</td><td>WINDOWED</td><td>slewing</td><td>N</td><td>910169</td></tr>\n",
       "<tr><td>31541</td><td>00031541001</td><td>15.23637</td><td>-64.37918</td><td>55156.7312711806</td><td>8.53979</td><td>200</td><td>WINDOWED</td><td>settling</td><td>N</td><td>910170</td></tr>\n",
       "<tr><td>31541</td><td>00031541001</td><td>15.23637</td><td>-64.37918</td><td>55156.7313907407</td><td>521.93274</td><td>600x600</td><td>PHOTON</td><td>pointing</td><td>N</td><td>910171</td></tr>\n",
       "<tr><td>31541</td><td>00031541001</td><td>15.23637</td><td>-64.37918</td><td>55156.7965230324</td><td>12.48625</td><td></td><td>BIASIMA</td><td>slewing</td><td>N</td><td>910172</td></tr>\n",
       "<tr><td>31541</td><td>00031541001</td><td>15.23637</td><td>-64.37918</td><td>55156.7970043981</td><td>79.9007</td><td>200</td><td>WINDOWED</td><td>slewing</td><td>N</td><td>910173</td></tr>\n",
       "<tr><td>31541</td><td>00031541001</td><td>15.23637</td><td>-64.37918</td><td>55156.7979378472</td><td>9.60729</td><td>200</td><td>WINDOWED</td><td>settling</td><td>N</td><td>910174</td></tr>\n",
       "<tr><td>31541</td><td>00031541001</td><td>15.23637</td><td>-64.37918</td><td>55156.7980618056</td><td>521.93258</td><td>600x600</td><td>PHOTON</td><td>pointing</td><td>N</td><td>910175</td></tr>\n",
       "</table></div>"
      ],
      "text/plain": [
       "<Table length=28>\n",
       "target_id    obsid       ra       dec    ... pointing_mode flipflop __row \n",
       "                        deg       deg    ...                              \n",
       "  int32      object   float64   float64  ...     object     object  object\n",
       "--------- ----------- -------- --------- ... ------------- -------- ------\n",
       "    31541 00031541001 15.23637 -64.37918 ...       slewing        N 910148\n",
       "    31541 00031541001 15.23637 -64.37918 ...       slewing        N 910149\n",
       "    31541 00031541001 15.23637 -64.37918 ...      settling        N 910150\n",
       "    31541 00031541001 15.23637 -64.37918 ...      pointing        N 910151\n",
       "    31541 00031541001 15.23637 -64.37918 ...       slewing        N 910152\n",
       "    31541 00031541001 15.23637 -64.37918 ...       slewing        N 910153\n",
       "    31541 00031541001 15.23637 -64.37918 ...      settling        N 910154\n",
       "    31541 00031541001 15.23637 -64.37918 ...      pointing        N 910155\n",
       "    31541 00031541001 15.23637 -64.37918 ...       slewing        N 910156\n",
       "      ...         ...      ...       ... ...           ...      ...    ...\n",
       "    31541 00031541001 15.23637 -64.37918 ...      pointing        N 910167\n",
       "    31541 00031541001 15.23637 -64.37918 ...       slewing        N 910168\n",
       "    31541 00031541001 15.23637 -64.37918 ...       slewing        N 910169\n",
       "    31541 00031541001 15.23637 -64.37918 ...      settling        N 910170\n",
       "    31541 00031541001 15.23637 -64.37918 ...      pointing        N 910171\n",
       "    31541 00031541001 15.23637 -64.37918 ...       slewing        N 910172\n",
       "    31541 00031541001 15.23637 -64.37918 ...       slewing        N 910173\n",
       "    31541 00031541001 15.23637 -64.37918 ...      settling        N 910174\n",
       "    31541 00031541001 15.23637 -64.37918 ...      pointing        N 910175"
      ]
     },
     "execution_count": 5,
     "metadata": {},
     "output_type": "execute_result"
    }
   ],
   "source": [
    "tab = Heasarc.query_region(database.iloc[5].to_numpy()[0],radius=15*u.arcmin, catalog=\"swiftxrlog\")\n",
    "obsinfo=np.asarray(tab)\n",
    "tab"
   ]
  },
  {
   "cell_type": "code",
   "execution_count": null,
   "metadata": {},
   "outputs": [],
   "source": []
  },
  {
   "cell_type": "code",
   "execution_count": 6,
   "metadata": {},
   "outputs": [],
   "source": [
    "df = tab.to_pandas()\n",
    "df = df.loc[df.pointing_mode == \"pointing\"].loc[df.operation_mode == \"PHOTON\"]"
   ]
  },
  {
   "cell_type": "code",
   "execution_count": 7,
   "metadata": {},
   "outputs": [
    {
     "data": {
      "text/plain": [
       "[31541,\n",
       " '00031541001',\n",
       " 15.23637,\n",
       " -64.37918,\n",
       " 55156.460562037,\n",
       " 521.93312,\n",
       " '600x600',\n",
       " 'PHOTON',\n",
       " 'pointing',\n",
       " 'N',\n",
       " '910155']"
      ]
     },
     "execution_count": 7,
     "metadata": {},
     "output_type": "execute_result"
    }
   ],
   "source": [
    "df.iloc[1].tolist()"
   ]
  },
  {
   "cell_type": "code",
   "execution_count": 8,
   "metadata": {},
   "outputs": [
    {
     "data": {
      "text/html": [
       "<div><i>Table length=7</i>\n",
       "<table id=\"table6105880208\" class=\"table-striped table-bordered table-condensed\">\n",
       "<thead><tr><th>target_id</th><th>obsid</th><th>ra</th><th>dec</th><th>start_time</th><th>exposure</th><th>window_size</th><th>operation_mode</th><th>pointing_mode</th><th>flipflop</th><th>__row</th></tr></thead>\n",
       "<thead><tr><th></th><th></th><th>deg</th><th>deg</th><th>d</th><th>s</th><th></th><th></th><th></th><th></th><th></th></tr></thead>\n",
       "<thead><tr><th>int32</th><th>object</th><th>float64</th><th>float64</th><th>float64</th><th>float64</th><th>object</th><th>object</th><th>object</th><th>object</th><th>object</th></tr></thead>\n",
       "<tr><td>31541</td><td>00031541001</td><td>15.23637</td><td>-64.37918</td><td>55156.2704486111</td><td>149.83724</td><td>600x600</td><td>PHOTON</td><td>pointing</td><td>N</td><td>910151</td></tr>\n",
       "<tr><td>31541</td><td>00031541001</td><td>15.23637</td><td>-64.37918</td><td>55156.460562037</td><td>521.93312</td><td>600x600</td><td>PHOTON</td><td>pointing</td><td>N</td><td>910155</td></tr>\n",
       "<tr><td>31541</td><td>00031541001</td><td>15.23637</td><td>-64.37918</td><td>55156.5272243056</td><td>521.93258</td><td>600x600</td><td>PHOTON</td><td>pointing</td><td>N</td><td>910159</td></tr>\n",
       "<tr><td>31541</td><td>00031541001</td><td>15.23637</td><td>-64.37918</td><td>55156.5938909722</td><td>521.93294</td><td>600x600</td><td>PHOTON</td><td>pointing</td><td>N</td><td>910163</td></tr>\n",
       "<tr><td>31541</td><td>00031541001</td><td>15.23637</td><td>-64.37918</td><td>55156.6612518519</td><td>521.93298</td><td>600x600</td><td>PHOTON</td><td>pointing</td><td>N</td><td>910167</td></tr>\n",
       "<tr><td>31541</td><td>00031541001</td><td>15.23637</td><td>-64.37918</td><td>55156.7313907407</td><td>521.93274</td><td>600x600</td><td>PHOTON</td><td>pointing</td><td>N</td><td>910171</td></tr>\n",
       "<tr><td>31541</td><td>00031541001</td><td>15.23637</td><td>-64.37918</td><td>55156.7980618056</td><td>521.93258</td><td>600x600</td><td>PHOTON</td><td>pointing</td><td>N</td><td>910175</td></tr>\n",
       "</table></div>"
      ],
      "text/plain": [
       "<Table length=7>\n",
       "target_id    obsid       ra       dec    ... pointing_mode flipflop __row \n",
       "                        deg       deg    ...                              \n",
       "  int32      object   float64   float64  ...     object     object  object\n",
       "--------- ----------- -------- --------- ... ------------- -------- ------\n",
       "    31541 00031541001 15.23637 -64.37918 ...      pointing        N 910151\n",
       "    31541 00031541001 15.23637 -64.37918 ...      pointing        N 910155\n",
       "    31541 00031541001 15.23637 -64.37918 ...      pointing        N 910159\n",
       "    31541 00031541001 15.23637 -64.37918 ...      pointing        N 910163\n",
       "    31541 00031541001 15.23637 -64.37918 ...      pointing        N 910167\n",
       "    31541 00031541001 15.23637 -64.37918 ...      pointing        N 910171\n",
       "    31541 00031541001 15.23637 -64.37918 ...      pointing        N 910175"
      ]
     },
     "execution_count": 8,
     "metadata": {},
     "output_type": "execute_result"
    }
   ],
   "source": [
    "tab[(tab[\"pointing_mode\"]==\"pointing\") & (tab[\"operation_mode\"]==\"PHOTON\") & (tab[\"exposure\"] > 100)]"
   ]
  },
  {
   "cell_type": "code",
   "execution_count": 18,
   "metadata": {},
   "outputs": [
    {
     "name": "stdout",
     "output_type": "stream",
     "text": [
      "Looking for 256 sources\n",
      "Looking for 4FGL J0007.0+7303\n"
     ]
    },
    {
     "name": "stderr",
     "output_type": "stream",
     "text": [
      "WARNING: NoResultsWarning: No matching rows were found in the query. [astroquery.heasarc.core]\n"
     ]
    },
    {
     "name": "stdout",
     "output_type": "stream",
     "text": [
      "Looking for 4FGL J0034.3-0534\n"
     ]
    },
    {
     "name": "stderr",
     "output_type": "stream",
     "text": [
      "WARNING: NoResultsWarning: No matching rows were found in the query. [astroquery.heasarc.core]\n"
     ]
    },
    {
     "name": "stdout",
     "output_type": "stream",
     "text": [
      "Looking for 4FGL J0514.6-4408\n"
     ]
    },
    {
     "name": "stderr",
     "output_type": "stream",
     "text": [
      "WARNING: NoResultsWarning: No matching rows were found in the query. [astroquery.heasarc.core]\n"
     ]
    },
    {
     "name": "stdout",
     "output_type": "stream",
     "text": [
      "Looking for 4FGL J0729.3-1445\n"
     ]
    },
    {
     "name": "stderr",
     "output_type": "stream",
     "text": [
      "WARNING: NoResultsWarning: No matching rows were found in the query. [astroquery.heasarc.core]\n"
     ]
    },
    {
     "name": "stdout",
     "output_type": "stream",
     "text": [
      "Looking for 4FGL J0737.9-3041\n"
     ]
    },
    {
     "name": "stderr",
     "output_type": "stream",
     "text": [
      "WARNING: NoResultsWarning: No matching rows were found in the query. [astroquery.heasarc.core]\n"
     ]
    },
    {
     "name": "stdout",
     "output_type": "stream",
     "text": [
      "Looking for 4FGL J0751.2+1808\n"
     ]
    },
    {
     "name": "stderr",
     "output_type": "stream",
     "text": [
      "WARNING: NoResultsWarning: No matching rows were found in the query. [astroquery.heasarc.core]\n"
     ]
    },
    {
     "name": "stdout",
     "output_type": "stream",
     "text": [
      "Looking for 4FGL J0922.3+0644\n"
     ]
    },
    {
     "name": "stderr",
     "output_type": "stream",
     "text": [
      "WARNING: NoResultsWarning: No matching rows were found in the query. [astroquery.heasarc.core]\n"
     ]
    },
    {
     "name": "stdout",
     "output_type": "stream",
     "text": [
      "Looking for 4FGL J0931.2-1906\n"
     ]
    },
    {
     "name": "stderr",
     "output_type": "stream",
     "text": [
      "WARNING: NoResultsWarning: No matching rows were found in the query. [astroquery.heasarc.core]\n"
     ]
    },
    {
     "name": "stdout",
     "output_type": "stream",
     "text": [
      "Looking for 4FGL J1008.7-4659\n"
     ]
    },
    {
     "name": "stderr",
     "output_type": "stream",
     "text": [
      "WARNING: NoResultsWarning: No matching rows were found in the query. [astroquery.heasarc.core]\n"
     ]
    },
    {
     "name": "stdout",
     "output_type": "stream",
     "text": [
      "Looking for 4FGL J1024.5-0719\n"
     ]
    },
    {
     "name": "stderr",
     "output_type": "stream",
     "text": [
      "WARNING: NoResultsWarning: No matching rows were found in the query. [astroquery.heasarc.core]\n"
     ]
    },
    {
     "name": "stdout",
     "output_type": "stream",
     "text": [
      "Looking for 4FGL J1125.6-5825\n"
     ]
    },
    {
     "name": "stderr",
     "output_type": "stream",
     "text": [
      "WARNING: NoResultsWarning: No matching rows were found in the query. [astroquery.heasarc.core]\n"
     ]
    },
    {
     "name": "stdout",
     "output_type": "stream",
     "text": [
      "Looking for 4FGL J1137.6+7527\n"
     ]
    },
    {
     "name": "stderr",
     "output_type": "stream",
     "text": [
      "WARNING: NoResultsWarning: No matching rows were found in the query. [astroquery.heasarc.core]\n"
     ]
    },
    {
     "name": "stdout",
     "output_type": "stream",
     "text": [
      "Looking for 4FGL J1142.8+0120\n"
     ]
    },
    {
     "name": "stderr",
     "output_type": "stream",
     "text": [
      "WARNING: NoResultsWarning: No matching rows were found in the query. [astroquery.heasarc.core]\n"
     ]
    },
    {
     "name": "stdout",
     "output_type": "stream",
     "text": [
      "Looking for 4FGL J1147.7-6618\n"
     ]
    },
    {
     "name": "stderr",
     "output_type": "stream",
     "text": [
      "WARNING: NoResultsWarning: No matching rows were found in the query. [astroquery.heasarc.core]\n"
     ]
    },
    {
     "name": "stdout",
     "output_type": "stream",
     "text": [
      "Looking for 4FGL J1207.4-5050\n"
     ]
    },
    {
     "name": "stderr",
     "output_type": "stream",
     "text": [
      "WARNING: NoResultsWarning: No matching rows were found in the query. [astroquery.heasarc.core]\n"
     ]
    },
    {
     "name": "stdout",
     "output_type": "stream",
     "text": [
      "Looking for 4FGL J1253.3-5816\n"
     ]
    },
    {
     "name": "stderr",
     "output_type": "stream",
     "text": [
      "WARNING: NoResultsWarning: No matching rows were found in the query. [astroquery.heasarc.core]\n"
     ]
    },
    {
     "name": "stdout",
     "output_type": "stream",
     "text": [
      "Looking for 4FGL J1440.2-5505\n"
     ]
    },
    {
     "name": "stderr",
     "output_type": "stream",
     "text": [
      "WARNING: NoResultsWarning: No matching rows were found in the query. [astroquery.heasarc.core]\n"
     ]
    },
    {
     "name": "stdout",
     "output_type": "stream",
     "text": [
      "Looking for 4FGL J1543.6-5148\n"
     ]
    },
    {
     "name": "stderr",
     "output_type": "stream",
     "text": [
      "WARNING: NoResultsWarning: No matching rows were found in the query. [astroquery.heasarc.core]\n"
     ]
    },
    {
     "name": "stdout",
     "output_type": "stream",
     "text": [
      "Looking for 4FGL J1555.7-2908\n"
     ]
    },
    {
     "name": "stderr",
     "output_type": "stream",
     "text": [
      "WARNING: NoResultsWarning: No matching rows were found in the query. [astroquery.heasarc.core]\n"
     ]
    },
    {
     "name": "stdout",
     "output_type": "stream",
     "text": [
      "Looking for 4FGL J1600.9-3054\n"
     ]
    },
    {
     "name": "stderr",
     "output_type": "stream",
     "text": [
      "WARNING: NoResultsWarning: No matching rows were found in the query. [astroquery.heasarc.core]\n"
     ]
    },
    {
     "name": "stdout",
     "output_type": "stream",
     "text": [
      "Looking for 4FGL J1618.7-4633c\n"
     ]
    },
    {
     "name": "stderr",
     "output_type": "stream",
     "text": [
      "WARNING: NoResultsWarning: No matching rows were found in the query. [astroquery.heasarc.core]\n"
     ]
    },
    {
     "name": "stdout",
     "output_type": "stream",
     "text": [
      "Looking for 4FGL J1641.2+8049\n"
     ]
    },
    {
     "name": "stderr",
     "output_type": "stream",
     "text": [
      "WARNING: NoResultsWarning: No matching rows were found in the query. [astroquery.heasarc.core]\n"
     ]
    },
    {
     "name": "stdout",
     "output_type": "stream",
     "text": [
      "Looking for 4FGL J1705.6-1909\n"
     ]
    },
    {
     "name": "stderr",
     "output_type": "stream",
     "text": [
      "WARNING: NoResultsWarning: No matching rows were found in the query. [astroquery.heasarc.core]\n"
     ]
    },
    {
     "name": "stdout",
     "output_type": "stream",
     "text": [
      "Looking for 4FGL J1730.8-2303\n"
     ]
    },
    {
     "name": "stderr",
     "output_type": "stream",
     "text": [
      "WARNING: NoResultsWarning: No matching rows were found in the query. [astroquery.heasarc.core]\n"
     ]
    },
    {
     "name": "stdout",
     "output_type": "stream",
     "text": [
      "Looking for 4FGL J1740.5+1005\n"
     ]
    },
    {
     "name": "stderr",
     "output_type": "stream",
     "text": [
      "WARNING: NoResultsWarning: No matching rows were found in the query. [astroquery.heasarc.core]\n"
     ]
    },
    {
     "name": "stdout",
     "output_type": "stream",
     "text": [
      "Looking for 4FGL J1801.6-1418\n"
     ]
    },
    {
     "name": "stderr",
     "output_type": "stream",
     "text": [
      "WARNING: NoResultsWarning: No matching rows were found in the query. [astroquery.heasarc.core]\n"
     ]
    },
    {
     "name": "stdout",
     "output_type": "stream",
     "text": [
      "Looking for 4FGL J1807.1+2822\n"
     ]
    },
    {
     "name": "stderr",
     "output_type": "stream",
     "text": [
      "WARNING: NoResultsWarning: No matching rows were found in the query. [astroquery.heasarc.core]\n"
     ]
    },
    {
     "name": "stdout",
     "output_type": "stream",
     "text": [
      "Looking for 4FGL J1843.7-1114\n"
     ]
    },
    {
     "name": "stderr",
     "output_type": "stream",
     "text": [
      "WARNING: NoResultsWarning: No matching rows were found in the query. [astroquery.heasarc.core]\n"
     ]
    },
    {
     "name": "stdout",
     "output_type": "stream",
     "text": [
      "Looking for 4FGL J1855.9-1435\n"
     ]
    },
    {
     "name": "stderr",
     "output_type": "stream",
     "text": [
      "WARNING: NoResultsWarning: No matching rows were found in the query. [astroquery.heasarc.core]\n"
     ]
    },
    {
     "name": "stdout",
     "output_type": "stream",
     "text": [
      "Looking for 4FGL J1857.2+0941\n"
     ]
    },
    {
     "name": "stderr",
     "output_type": "stream",
     "text": [
      "WARNING: NoResultsWarning: No matching rows were found in the query. [astroquery.heasarc.core]\n"
     ]
    },
    {
     "name": "stdout",
     "output_type": "stream",
     "text": [
      "Looking for 4FGL J1904.4-1129\n"
     ]
    },
    {
     "name": "stderr",
     "output_type": "stream",
     "text": [
      "WARNING: NoResultsWarning: No matching rows were found in the query. [astroquery.heasarc.core]\n"
     ]
    },
    {
     "name": "stdout",
     "output_type": "stream",
     "text": [
      "Looking for 4FGL J1908.9+2103\n"
     ]
    },
    {
     "name": "stderr",
     "output_type": "stream",
     "text": [
      "WARNING: NoResultsWarning: No matching rows were found in the query. [astroquery.heasarc.core]\n"
     ]
    },
    {
     "name": "stdout",
     "output_type": "stream",
     "text": [
      "Looking for 4FGL J1909.7-3744\n"
     ]
    },
    {
     "name": "stderr",
     "output_type": "stream",
     "text": [
      "WARNING: NoResultsWarning: No matching rows were found in the query. [astroquery.heasarc.core]\n"
     ]
    },
    {
     "name": "stdout",
     "output_type": "stream",
     "text": [
      "Looking for 4FGL J1932.2+2221\n",
      "Looking for 4FGL J2051.0-0826\n"
     ]
    },
    {
     "name": "stderr",
     "output_type": "stream",
     "text": [
      "WARNING: NoResultsWarning: No matching rows were found in the query. [astroquery.heasarc.core]\n"
     ]
    },
    {
     "name": "stdout",
     "output_type": "stream",
     "text": [
      "Looking for 4FGL J2052.7+1218\n"
     ]
    },
    {
     "name": "stderr",
     "output_type": "stream",
     "text": [
      "WARNING: NoResultsWarning: No matching rows were found in the query. [astroquery.heasarc.core]\n"
     ]
    },
    {
     "name": "stdout",
     "output_type": "stream",
     "text": [
      "Looking for 4FGL J2124.7-3358\n"
     ]
    },
    {
     "name": "stderr",
     "output_type": "stream",
     "text": [
      "WARNING: NoResultsWarning: No matching rows were found in the query. [astroquery.heasarc.core]\n"
     ]
    },
    {
     "name": "stdout",
     "output_type": "stream",
     "text": [
      "Looking for 4FGL J2205.5+6016\n"
     ]
    },
    {
     "name": "stderr",
     "output_type": "stream",
     "text": [
      "WARNING: NoResultsWarning: No matching rows were found in the query. [astroquery.heasarc.core]\n"
     ]
    },
    {
     "name": "stdout",
     "output_type": "stream",
     "text": [
      "Looking for 4FGL J2208.1+4058\n"
     ]
    },
    {
     "name": "stderr",
     "output_type": "stream",
     "text": [
      "WARNING: NoResultsWarning: No matching rows were found in the query. [astroquery.heasarc.core]\n"
     ]
    },
    {
     "name": "stdout",
     "output_type": "stream",
     "text": [
      "Looking for 4FGL J2310.0-0555\n",
      "There are 1283 observations available for the 256 sources\n"
     ]
    },
    {
     "name": "stderr",
     "output_type": "stream",
     "text": [
      "WARNING: NoResultsWarning: No matching rows were found in the query. [astroquery.heasarc.core]\n"
     ]
    }
   ],
   "source": [
    "os.chdir(startpath)\n",
    "duration = []\n",
    "\n",
    "reset_queries = False\n",
    "\n",
    "match_list = []\n",
    "query_list2 = []\n",
    "done = []\n",
    "\n",
    "if not reset_queries and os.path.isfile(\"PSRmatch.csv\"):\n",
    "    if os.path.isfile(\"temp.csv\"):\n",
    "        os.system(\"mv temp.csv PSRmatch.csv\")\n",
    "    if os.path.isfile(\"temp.txt\"):\n",
    "        os.system(\"mv temp.txt HEASqueries.txt\")\n",
    "    match_df = pd.read_csv(\"PSRmatch.csv\")\n",
    "    match_list.append(\"src,ref\\n\")\n",
    "    for i in range(len(match_df)):\n",
    "        ls = match_df.iloc[i].tolist()\n",
    "        done.append(ls[0])\n",
    "        string = \"\"\n",
    "        for item in ls:\n",
    "            string += str(item)+\",\"\n",
    "        string = string[:-1]+\"\\n\"\n",
    "        match_list.append(string)\n",
    "    query_list = open(\"HEASqueries.txt\",\"r\")\n",
    "    # qlines = query_list.readlines()\n",
    "    query_list2 = query_list.readlines()\n",
    "    \n",
    "    # for line in qlines:\n",
    "    #     if line[-2:] == \"\\n\":\n",
    "    #         query_list2.append(line[:-2])\n",
    "    #     else:\n",
    "    #         print(line)\n",
    "    #         query_list2.append(line)\n",
    "    query_list.close()\n",
    "    os.system(\"cp PSRmatch.csv temp.csv\")\n",
    "    os.system(\"cp HEASqueries.txt temp.txt\")    \n",
    "\n",
    "match_file = open(\"PSRmatch.csv\",\"w\")\n",
    "# query_list = open(\"HEASqueries.txt\",\"w\")\n",
    "if \"src,ref\\n\" not in match_list:\n",
    "    match_list.append(\"src,ref\\n\")\n",
    "\n",
    "obs_limit = 10\n",
    "quality_lim = 3\n",
    "\n",
    "df = database.loc[database.QUALITY <= quality_lim]\n",
    "\n",
    "looking_number = len(df)\n",
    "if looking_number > len(df): looking_number = len(df)\n",
    "\n",
    "psr_list = df.PSR.to_numpy()[:looking_number]\n",
    "fgl_list = df[\"4FGL\"].to_numpy()[:looking_number]\n",
    "\n",
    "print(\"Looking for\",looking_number,\"sources\")\n",
    "for name in fgl_list:\n",
    "    if name in done:\n",
    "        # print(\"Skipping \"+name)\n",
    "        continue\n",
    "    print(\"Looking for \"+name)\n",
    "    # name = database.iloc[0].to_numpy()[0]\n",
    "\n",
    "    RA=database.loc[database[\"4FGL\"]==name]['RA'].to_numpy()[0]\n",
    "    DEC=database.loc[database[\"4FGL\"]==name]['Dec'].to_numpy()[0]\n",
    "    coords = SkyCoord(RA,DEC, equinox = 'J2000', frame='fk5', unit=(u.deg,u.deg))\n",
    "\n",
    "    try:\n",
    "        tab = Heasarc.query_region(coords, catalog=\"swiftxrlog\",radius=15*u.arcmin)\n",
    "    except:\n",
    "        tab = Heasarc.query_region(coords, catalog=\"swiftxrlog\",radius=15*u.arcmin)\n",
    "    if len(tab) == 0: continue\n",
    "    else:\n",
    "       tab.sort(\"exposure\",reverse=True)\n",
    "\n",
    "    # obsinfo=np.asarray(tab[(tab[\"pointing_mode\"]==\"pointing\") & (tab[\"operation_mode\"]==\"PHOTON\") & (tab[\"exposure\"] > 100)])\n",
    "    obsinfo=np.asarray(tab[(tab[\"pointing_mode\"]==\"pointing\") & (tab[\"exposure\"] > 100)])\n",
    "\n",
    "\n",
    "    batchquery=[]\n",
    "    obsdur=0\n",
    "\n",
    "    n_xrt = 0\n",
    "    n_uvot = 0\n",
    "\n",
    "    for j in range(0,len(obsinfo)):    \n",
    "        if j > 80:\n",
    "            break\n",
    "        obsID=str((obsinfo[j][1]))#[2:13]\n",
    "        # print(obsID)\n",
    "        time=t.Time(obsinfo[j][4],format='mjd')\n",
    "        time.format='fits'\n",
    "        year=(time.value[0:4])\n",
    "        month=(time.value[5:7])\n",
    "        #We only want PC mode. Remove this if you want WT mode as well\n",
    "        if (obsinfo[j][7]==b'PHOTON        '):\n",
    "            obsdur+=obsinfo[j][5]\n",
    "        #Need to get observation ID number, stripped of all the useless stuff that piles up.\n",
    "        # obsID=str((obsinfo[j][1]))[2:13]\n",
    "        finstring=year+\"_\"+month+\"/\"+obsID    \n",
    "        firststring=\"wget -q -nH --no-check-certificate --cut-dirs=5 -r -l0 -c -N -np -R 'index*' -erobots=off --retr-symlinks https://heasarc.gsfc.nasa.gov/FTP/swift/data/obs/\"\n",
    "        #Create queries for auxil and xrt datasets.\n",
    "        query1=firststring+finstring+\"/auxil/\"\n",
    "        query2=firststring+finstring+\"/xrt/\"\n",
    "\n",
    "        temp = name+','+obsID+'ref\\n'\n",
    "        if temp not in match_list:\n",
    "            match_list.append(temp)\n",
    "            n_xrt += 1\n",
    "\n",
    "        batchquery=np.append(batchquery,query1)\n",
    "        batchquery=np.append(batchquery,query2) \n",
    "        if n_uvot < 5:\n",
    "            query3=firststring+finstring+\"/uvot/\"\n",
    "            # batchquery=np.append(batchquery,query3) \n",
    "            # n_uvot += 1\n",
    "        if n_xrt > obs_limit:\n",
    "            break\n",
    "\n",
    "    uniquer=np.unique(batchquery)\n",
    "    #Write queries to .txt file. The queries can be run however you like.\n",
    "    for k in range(0,len(uniquer)):\n",
    "        # query_list.write(uniquer[k]+'\\n')\n",
    "        if uniquer[k] not in query_list2:\n",
    "            query_list2.append(uniquer[k]+'\\n')\n",
    "\n",
    "    duration=np.append(duration,obsdur)\n",
    "query_list = open(\"HEASqueries.txt\",\"w\")\n",
    "for query in query_list2:\n",
    "    query_list.write(query)\n",
    "query_list.close()\n",
    "for line in match_list:\n",
    "    match_file.write(line)\n",
    "match_file.close()\n",
    "\n",
    "if os.path.isfile(\"temp.csv\"):\n",
    "    os.system(\"rm temp.*\")\n",
    "\n",
    "print(\"There are\",int(len(match_list)-1),\"observations available for the\",(looking_number),\"sources\")"
   ]
  },
  {
   "cell_type": "code",
   "execution_count": 10,
   "metadata": {},
   "outputs": [],
   "source": [
    "tab = Heasarc.query_region(\"4FGL J0102.8+4839\", catalog=\"swiftxrlog\",radius=15*u.arcmin)\n"
   ]
  },
  {
   "cell_type": "code",
   "execution_count": 11,
   "metadata": {},
   "outputs": [],
   "source": [
    "tab.sort(\"exposure\",reverse=True)"
   ]
  },
  {
   "cell_type": "code",
   "execution_count": 12,
   "metadata": {},
   "outputs": [
    {
     "data": {
      "text/html": [
       "<div><i>Table length=9</i>\n",
       "<table id=\"table6102917392\" class=\"table-striped table-bordered table-condensed\">\n",
       "<thead><tr><th>target_id</th><th>obsid</th><th>ra</th><th>dec</th><th>start_time</th><th>exposure</th><th>window_size</th><th>operation_mode</th><th>pointing_mode</th><th>flipflop</th><th>__row</th></tr></thead>\n",
       "<thead><tr><th></th><th></th><th>deg</th><th>deg</th><th>d</th><th>s</th><th></th><th></th><th></th><th></th><th></th></tr></thead>\n",
       "<thead><tr><th>int32</th><th>object</th><th>float64</th><th>float64</th><th>float64</th><th>float64</th><th>object</th><th>object</th><th>object</th><th>object</th><th>object</th></tr></thead>\n",
       "<tr><td>41270</td><td>00041270004</td><td>15.74953</td><td>48.65474</td><td>55503.5784449074</td><td>894.02633</td><td>600x600</td><td>PHOTON</td><td>pointing</td><td>N</td><td>264150</td></tr>\n",
       "<tr><td>41270</td><td>00041270004</td><td>15.74953</td><td>48.65474</td><td>55503.254034375</td><td>724.21037</td><td>600x600</td><td>PHOTON</td><td>pointing</td><td>N</td><td>264138</td></tr>\n",
       "<tr><td>41270</td><td>00041270004</td><td>15.74953</td><td>48.65474</td><td>55503.511815162</td><td>711.72479</td><td>600x600</td><td>PHOTON</td><td>pointing</td><td>N</td><td>264144</td></tr>\n",
       "<tr><td>41270</td><td>00041270001</td><td>15.79604</td><td>48.63667</td><td>55481.5716165509</td><td>526.92671</td><td>600x600</td><td>PHOTON</td><td>pointing</td><td>N</td><td>263887</td></tr>\n",
       "<tr><td>41270</td><td>00041270001</td><td>15.79604</td><td>48.63667</td><td>55481.50505625</td><td>516.93734</td><td>600x600</td><td>PHOTON</td><td>pointing</td><td>N</td><td>263882</td></tr>\n",
       "<tr><td>41270</td><td>00041270003</td><td>15.80840</td><td>48.62944</td><td>55501.3282974537</td><td>249.72753</td><td>600x600</td><td>PHOTON</td><td>pointing</td><td>N</td><td>263820</td></tr>\n",
       "<tr><td>41270</td><td>00041270003</td><td>15.80840</td><td>48.62944</td><td>55501.3033300926</td><td>247.23164</td><td>600x600</td><td>PHOTON</td><td>pointing</td><td>N</td><td>263814</td></tr>\n",
       "<tr><td>41270</td><td>00041270002</td><td>15.73669</td><td>48.65139</td><td>55492.5451076389</td><td>237.24207</td><td>600x600</td><td>PHOTON</td><td>pointing</td><td>N</td><td>264087</td></tr>\n",
       "<tr><td>41270</td><td>00041270003</td><td>15.80840</td><td>48.62944</td><td>55501.3706130787</td><td>194.78791</td><td>600x600</td><td>PHOTON</td><td>pointing</td><td>N</td><td>263826</td></tr>\n",
       "</table></div>"
      ],
      "text/plain": [
       "<Table length=9>\n",
       "target_id    obsid       ra      dec    ... pointing_mode flipflop __row \n",
       "                        deg      deg    ...                              \n",
       "  int32      object   float64  float64  ...     object     object  object\n",
       "--------- ----------- -------- -------- ... ------------- -------- ------\n",
       "    41270 00041270004 15.74953 48.65474 ...      pointing        N 264150\n",
       "    41270 00041270004 15.74953 48.65474 ...      pointing        N 264138\n",
       "    41270 00041270004 15.74953 48.65474 ...      pointing        N 264144\n",
       "    41270 00041270001 15.79604 48.63667 ...      pointing        N 263887\n",
       "    41270 00041270001 15.79604 48.63667 ...      pointing        N 263882\n",
       "    41270 00041270003 15.80840 48.62944 ...      pointing        N 263820\n",
       "    41270 00041270003 15.80840 48.62944 ...      pointing        N 263814\n",
       "    41270 00041270002 15.73669 48.65139 ...      pointing        N 264087\n",
       "    41270 00041270003 15.80840 48.62944 ...      pointing        N 263826"
      ]
     },
     "execution_count": 12,
     "metadata": {},
     "output_type": "execute_result"
    }
   ],
   "source": [
    "tab[(tab[\"pointing_mode\"]==\"pointing\")&(tab[\"exposure\"]>100)]"
   ]
  },
  {
   "cell_type": "code",
   "execution_count": 13,
   "metadata": {},
   "outputs": [],
   "source": [
    "obsinfo=np.asarray(tab[(tab[\"pointing_mode\"]==\"pointing\") & (tab[\"exposure\"] > 100)])\n"
   ]
  },
  {
   "cell_type": "code",
   "execution_count": 14,
   "metadata": {},
   "outputs": [
    {
     "ename": "ValueError",
     "evalue": "STOP",
     "output_type": "error",
     "traceback": [
      "\u001b[0;31m---------------------------------------------------------------------------\u001b[0m",
      "\u001b[0;31mValueError\u001b[0m                                Traceback (most recent call last)",
      "Cell \u001b[0;32mIn[14], line 1\u001b[0m\n\u001b[0;32m----> 1\u001b[0m \u001b[38;5;28;01mraise\u001b[39;00m \u001b[38;5;167;01mValueError\u001b[39;00m(\u001b[38;5;124m\"\u001b[39m\u001b[38;5;124mSTOP\u001b[39m\u001b[38;5;124m\"\u001b[39m)\n",
      "\u001b[0;31mValueError\u001b[0m: STOP"
     ]
    }
   ],
   "source": [
    "raise ValueError(\"STOP\")"
   ]
  },
  {
   "cell_type": "code",
   "execution_count": null,
   "metadata": {},
   "outputs": [],
   "source": []
  },
  {
   "cell_type": "code",
   "execution_count": 25,
   "metadata": {},
   "outputs": [
    {
     "name": "stdout",
     "output_type": "stream",
     "text": [
      "5% Downloaded\n",
      "10% Downloaded\n",
      "15% Downloaded\n",
      "20% Downloaded\n",
      "25% Downloaded\n",
      "30% Downloaded\n",
      "35% Downloaded\n",
      "40% Downloaded\n",
      "44% Downloaded\n",
      "49% Downloaded\n",
      "54% Downloaded\n",
      "60% Downloaded\n",
      "65% Downloaded\n",
      "70% Downloaded\n",
      "75% Downloaded\n",
      "80% Downloaded\n",
      "85% Downloaded\n",
      "90% Downloaded\n",
      "95% Downloaded\n",
      "100% Downloaded\n"
     ]
    }
   ],
   "source": [
    "os.chdir(initpath)\n",
    "counts = 20\n",
    "x_ls = list(np.linspace(1/counts,1,counts))\n",
    "\n",
    "openfile = open(startpath+\"HEASqueries.txt\",\"r\")\n",
    "current_query = openfile.readlines()\n",
    "openfile.close()\n",
    "\n",
    "# current_query = query_list2\n",
    "\n",
    "print(\"0% Downloaded\")\n",
    "\n",
    "for i,query in enumerate(current_query):\n",
    "    dat = query.split(\"/\")\n",
    "    loc = dat[-3]+\"/\"+dat[-2]\n",
    "    # print(dat)\n",
    "    # print(loc)\n",
    "\n",
    "    for x in x_ls:\n",
    "        # print(i%int(x*len(current_query)))\n",
    "        # print(i%int(x*len(query_list2)) == 0)\n",
    "        if (1+i)%int(x*len(current_query)) == 0:\n",
    "            print(str(int(x*100))+\"% Downloaded\")\n",
    "            x_ls = x_ls[1:]\n",
    "\n",
    "    if os.path.isdir(loc):\n",
    "        continue\n",
    "    # print(query)\n",
    "    # print(\"\\n\")\n",
    "    \n",
    "            \n",
    "    os.system(query)"
   ]
  },
  {
   "cell_type": "markdown",
   "metadata": {},
   "source": [
    "## swifttools test"
   ]
  },
  {
   "cell_type": "code",
   "execution_count": null,
   "metadata": {},
   "outputs": [],
   "source": [
    "target = \"1ES 1028+511\"\n",
    "# loc = os.getcwd()+\"/\"+\"V1405_new/dataInit/\"\n",
    "loc = os.getcwd()+\"/\"+target.replace(\" \",\"_\")+\"/dataInit/\"\n",
    "\n",
    "begin = date(2015,1,1)#date(2024,10,23)\n"
   ]
  },
  {
   "cell_type": "code",
   "execution_count": null,
   "metadata": {},
   "outputs": [],
   "source": [
    "# # psr_list = database.PSR.to_numpy()[:1]\n",
    "# overwrite = False\n",
    "\n",
    "# os.chdir(initpath)\n",
    "\n",
    "# for name in psr_list:\n",
    "#     query = ObsQuery(name=name)\n",
    "\n",
    "#     n = 1\n",
    "\n",
    "#     for ind, q in enumerate(query):\n",
    "#         if q.exposure.seconds >= 100:\n",
    "#             if (os.path.isdir(str(query[ind].obsid)) and not overwrite) or n > 3:\n",
    "#                 # print(\"Skipping\",q.obsid)\n",
    "#                 pass\n",
    "#             else:\n",
    "#                 n += 1\n",
    "#                 print(\"Downloading\",query[ind].obsid)\n",
    "#                 Data(obsid=query[ind].obsid, xrt=True, clobber=overwrite)"
   ]
  },
  {
   "cell_type": "code",
   "execution_count": null,
   "metadata": {},
   "outputs": [],
   "source": [
    "query= ObsQuery(name=\"V1405 Cas\")"
   ]
  },
  {
   "cell_type": "code",
   "execution_count": null,
   "metadata": {},
   "outputs": [],
   "source": []
  }
 ],
 "metadata": {
  "kernelspec": {
   "display_name": "base",
   "language": "python",
   "name": "python3"
  },
  "language_info": {
   "codemirror_mode": {
    "name": "ipython",
    "version": 3
   },
   "file_extension": ".py",
   "mimetype": "text/x-python",
   "name": "python",
   "nbconvert_exporter": "python",
   "pygments_lexer": "ipython3",
   "version": "3.11.7"
  }
 },
 "nbformat": 4,
 "nbformat_minor": 2
}
