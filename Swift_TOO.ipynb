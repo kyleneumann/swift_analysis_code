{
 "cells": [
  {
   "cell_type": "code",
   "execution_count": null,
   "metadata": {},
   "outputs": [],
   "source": [
    "from swifttools.swift_too import ObsQuery, Data\n",
    "import numpy as np\n",
    "from datetime import date\n",
    "import os"
   ]
  },
  {
   "cell_type": "code",
   "execution_count": null,
   "metadata": {},
   "outputs": [],
   "source": [
    "target = \"V1405 Cas\"\n",
    "# loc = os.getcwd()+\"/\"+\"V1405_new/dataInit/\"\n",
    "loc = f\"{os.getcwd()}/data/{target.replace(\" \",\"_\")}/dataInit/\"\n",
    "# loc = os.getcwd()+\"/\"+target.replace(\" \",\"_\")+\"/dataInit/\"\n",
    "\n",
    "begin = date(2024,10,23)\n",
    "end = date(2024,12,23) #date.today()\n",
    "overwrite = False\n",
    "print(loc)"
   ]
  },
  {
   "cell_type": "code",
   "execution_count": null,
   "metadata": {},
   "outputs": [],
   "source": [
    "query = ObsQuery(name=target,begin=begin,end=end)\n",
    "print(len(query))\n",
    "# loc = os.getcwd()+\"/\"+\"V1405_new/dataInit/\""
   ]
  },
  {
   "cell_type": "code",
   "execution_count": null,
   "metadata": {},
   "outputs": [],
   "source": [
    "query"
   ]
  },
  {
   "cell_type": "code",
   "execution_count": null,
   "metadata": {},
   "outputs": [],
   "source": [
    "query[0].obsid"
   ]
  },
  {
   "cell_type": "code",
   "execution_count": null,
   "metadata": {},
   "outputs": [],
   "source": [
    "for ind, q in enumerate(query):\n",
    "    # if ind > 5: break\n",
    "    if q.exposure.seconds >= 50:\n",
    "        if os.path.isdir(loc+str(query[ind].obsid)) and not overwrite:\n",
    "            pass\n",
    "        else:\n",
    "            print(\"Downloading\",loc+query[ind].obsid)\n",
    "            Data(obsid=query[ind].obsid,xrt=True,uvot=False,bat=False,auxil=True,uksdc=True,outdir=loc)"
   ]
  },
  {
   "cell_type": "code",
   "execution_count": null,
   "metadata": {},
   "outputs": [],
   "source": [
    "# id = query[35].obsid\n",
    "# print(id)\n",
    "# Data(obsid=id,xrt=True,uvot=False)#, outdir=loc)"
   ]
  },
  {
   "cell_type": "code",
   "execution_count": null,
   "metadata": {},
   "outputs": [],
   "source": []
  },
  {
   "cell_type": "code",
   "execution_count": null,
   "metadata": {},
   "outputs": [],
   "source": [
    "Data(obsid=\"00014197034\",xrt=True,uvot=True, outdir=loc)"
   ]
  },
  {
   "cell_type": "code",
   "execution_count": null,
   "metadata": {},
   "outputs": [],
   "source": []
  }
 ],
 "metadata": {
  "kernelspec": {
   "display_name": "base",
   "language": "python",
   "name": "python3"
  },
  "language_info": {
   "codemirror_mode": {
    "name": "ipython",
    "version": 3
   },
   "file_extension": ".py",
   "mimetype": "text/x-python",
   "name": "python",
   "nbconvert_exporter": "python",
   "pygments_lexer": "ipython3",
   "version": "3.11.7"
  }
 },
 "nbformat": 4,
 "nbformat_minor": 2
}
