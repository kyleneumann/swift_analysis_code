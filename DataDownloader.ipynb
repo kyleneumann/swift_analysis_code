{
 "cells": [
  {
   "cell_type": "code",
   "execution_count": 4,
   "metadata": {},
   "outputs": [],
   "source": [
    "import numpy as np\n",
    "from astropy.coordinates import SkyCoord\n",
    "from astropy import units as u\n",
    "from astropy import time as t\n",
    "from astropy import table\n",
    "from astroquery.heasarc import Heasarc\n",
    "\n",
    "import pandas as pd\n",
    "\n",
    "from swifttools.swift_too import ObsQuery, Data\n",
    "from datetime import date\n",
    "import os"
   ]
  },
  {
   "cell_type": "code",
   "execution_count": 6,
   "metadata": {},
   "outputs": [
    {
     "name": "stdout",
     "output_type": "stream",
     "text": [
      "/Volumes/LaCie/4FGLAll/neural_net/psrData/\n"
     ]
    }
   ],
   "source": [
    "startpath = os.getcwd()+\"/\"\n",
    "\n",
    "if \"code_xrt\" in startpath or \"code_uvot\" in startpath:\n",
    "    os.chdir(\"..\")\n",
    "    startpath=os.getcwd()+\"/\"\n",
    "\n",
    "initpath = os.getcwd()+\"/dataInit\"\n",
    "\n",
    "print(startpath)\n",
    "\n",
    "# os.system(\"ls -d */\")\n",
    "\n",
    "# specpath=input(\"Enter data directory: \")\n",
    "# totpath=startpath+specpath\n",
    "# os.chdir(totpath)"
   ]
  },
  {
   "cell_type": "code",
   "execution_count": null,
   "metadata": {},
   "outputs": [
    {
     "name": "stdout",
     "output_type": "stream",
     "text": [
      "0% Downloaded\n"
     ]
    }
   ],
   "source": [
    "os.chdir(initpath)\n",
    "counts = 20\n",
    "x_ls = list(np.linspace(1/counts,1,counts))\n",
    "\n",
    "openfile = open(startpath+\"HEASqueries.txt\",\"r\")\n",
    "current_query = openfile.readlines()\n",
    "openfile.close()\n",
    "\n",
    "# current_query = query_list2\n",
    "\n",
    "print(\"0% Downloaded\")\n",
    "\n",
    "for i,query in enumerate(current_query):\n",
    "    dat = query.split(\"/\")\n",
    "    loc = dat[-3]+\"/\"+dat[-2]\n",
    "    # print(dat)\n",
    "    # print(loc)\n",
    "\n",
    "    for x in x_ls:\n",
    "        # print(i%int(x*len(current_query)))\n",
    "        # print(i%int(x*len(query_list2)) == 0)\n",
    "        if (1+i)%int(x*len(current_query)) == 0:\n",
    "            print(str(int(x*100))+\"% Downloaded\")\n",
    "            x_ls = x_ls[1:]\n",
    "\n",
    "    if os.path.isdir(loc):\n",
    "        continue\n",
    "    # print(query)\n",
    "    # print(\"\\n\")\n",
    "    \n",
    "            \n",
    "    os.system(query)"
   ]
  },
  {
   "cell_type": "code",
   "execution_count": null,
   "metadata": {},
   "outputs": [],
   "source": []
  }
 ],
 "metadata": {
  "kernelspec": {
   "display_name": "base",
   "language": "python",
   "name": "python3"
  },
  "language_info": {
   "codemirror_mode": {
    "name": "ipython",
    "version": 3
   },
   "file_extension": ".py",
   "mimetype": "text/x-python",
   "name": "python",
   "nbconvert_exporter": "python",
   "pygments_lexer": "ipython3",
   "version": "3.11.7"
  }
 },
 "nbformat": 4,
 "nbformat_minor": 2
}
